{
 "cells": [
  {
   "cell_type": "code",
   "execution_count": 2,
   "metadata": {},
   "outputs": [],
   "source": [
    "import matplotlib.pyplot as plt\n",
    "from sklearn.decomposition import PCA  # 主成分分析可以降维\n",
    "import numpy as np\n",
    "from sklearn.cluster import KMeans"
   ]
  },
  {
   "cell_type": "code",
   "execution_count": 26,
   "metadata": {},
   "outputs": [],
   "source": [
    "# 读取数据\n",
    "data = np.loadtxt('20.csv',delimiter=',',usecols=(1,2,3,4,5,6),unpack=True)    #（以成绩单为例：2列为班级，4-9列分别为语文-生物成绩）  \n",
    "data = data.transpose()    #将按列（科目）组织的数组转置为按行（学生）组织的数组  "
   ]
  },
  {
   "cell_type": "code",
   "execution_count": 36,
   "metadata": {},
   "outputs": [
    {
     "name": "stdout",
     "output_type": "stream",
     "text": [
      "[[['USA,631.6,161.9,0.36,403,26073,35.34\\n'\n",
      "   'Japan,498.4,143.2,3.57,176,10223,6.26\\n'\n",
      "   'German,557.6,70.6,2.18,199,11571,9.48\\n'\n",
      "   'Sweden,684.1,281.8,1.4,286,16660,29.39\\n'\n",
      "   'Switzer,644,93.5,1.98,234,13621,22.68\\n'\n",
      "   'Denmark,620.3,248.6,2.56,296,17210,21.84\\n'\n",
      "   'Singapo,498.4,147.5,2.5,284,13578,13.49\\n'\n",
      "   'Taiwan,469.4,56.1,3.68,119,6911,1.72\\n'\n",
      "   'Korea,434.5,73,3.36,99,5795,1.66\\n'\n",
      "   'Brazil,81.9,16.3,3.02,19,876,0.52\\n'\n",
      "   'Chile,138.6,8.2,1.4,31,1411,1.28\\n'\n",
      "   'Mexico,92.2,9.8,2.61,31,1751,0.35\\n'\n",
      "   'Russian,174.9,5,5.12,24,1101,0.48\\n'\n",
      "   'Porland,169,6.5,3.68,40,1796,1.45\\n'\n",
      "   'Hungary,262.2,49.4,2.66,68,3067,3.09\\n'\n",
      "   'Malasia,195.5,88.4,4.19,53,2734,1.25\\n'\n",
      "   'Tailand,78.6,27.8,4.95,22,1662,0.11\\n'\n",
      "   'Indian,13.6,0.3,6.28,2,101,0.01\\n'\n",
      "   'France,559.1,42.9,1.27,201,11702,4.76\\n'\n",
      "   'British,521.1,122.5,0.98,248,14461,11.91\\n']]]\n"
     ]
    }
   ],
   "source": [
    "lis = []\n",
    "with open('20.csv', 'r') as f1:\n",
    "    list1 = [f1.readlines()]\n",
    "    lis.append(list1)\n",
    "lis_ = np.array(lis)     \n",
    "print(lis_)"
   ]
  },
  {
   "cell_type": "code",
   "execution_count": 11,
   "metadata": {},
   "outputs": [],
   "source": [
    "#逐行将读到的文件存入python的列表  并将python列表转化为ndarray \n",
    "date_PyList=[]  \n",
    "for one_line in data:  \n",
    "    date_PyList.append(one_line)    \n",
    "X = np.array(date_PyList)     "
   ]
  },
  {
   "cell_type": "code",
   "execution_count": 12,
   "metadata": {},
   "outputs": [
    {
     "name": "stdout",
     "output_type": "stream",
     "text": [
      "[[ 1.79599871e+04  2.53917152e+02]\n",
      " [ 2.11142753e+03 -7.70780649e+01]\n",
      " [ 3.46006394e+03 -8.67790172e+01]\n",
      " [ 8.55304672e+03 -9.08882398e+01]\n",
      " [ 5.51212623e+03 -1.15299946e+02]\n",
      " [ 9.10077879e+03 -7.49943138e+00]\n",
      " [ 5.46631109e+03  1.74027318e+01]\n",
      " [-1.20119940e+03 -1.33636440e+02]\n",
      " [-2.31772255e+03 -1.33828455e+02]\n",
      " [-7.24569839e+03  7.86465356e+01]\n",
      " [-6.70927363e+03  3.90681758e+01]\n",
      " [-6.37077248e+03  9.50015973e+01]\n",
      " [-7.01821053e+03 -5.37400848e+00]\n",
      " [-6.32350156e+03  2.03139803e+01]\n",
      " [-5.04974947e+03 -4.07609925e+01]\n",
      " [-5.38435005e+03  1.09172590e+01]\n",
      " [-6.46009482e+03  1.03930835e+02]\n",
      " [-8.02260983e+03  1.25907524e+02]\n",
      " [ 3.59081094e+03 -8.08527617e+01]\n",
      " [ 6.34863036e+03  2.68915661e+01]]\n"
     ]
    }
   ],
   "source": [
    "# 降维操作一波就好\n",
    "#调用sklearn中的PCA，其中主成分有5列\n",
    "pca_sk = PCA(n_components=2)\n",
    "#利用PCA进行降维，数据存在X_new中\n",
    "X_new = pca_sk.fit_transform(X)\n",
    "print(X_new)"
   ]
  },
  {
   "cell_type": "code",
   "execution_count": 17,
   "metadata": {},
   "outputs": [
    {
     "data": {
      "image/png": "[encoded data removed]",
      "text/plain": [
       "<Figure size 432x288 with 1 Axes>"
      ]
     },
     "metadata": {
      "needs_background": "light"
     },
     "output_type": "display_data"
    }
   ],
   "source": [
    "#绘制数据分布图\n",
    "plt.scatter(X_new[:, 0], X_new[:, 1], c = \"red\", marker='o', label='see')\n",
    "plt.xlabel('call')\n",
    "plt.ylabel('movecall')  # 对两个特征分类\n",
    "plt.legend(loc=2)  # 图例在图中的地理位置\n",
    "plt.show()"
   ]
  },
  {
   "cell_type": "code",
   "execution_count": 22,
   "metadata": {},
   "outputs": [],
   "source": [
    "estimator = KMeans(n_clusters = 2)  #构造聚类器，假设要聚的类别为3个，也就是设定K=3\n",
    "estimator.fit(X_new)#聚类\n",
    "label_pred = estimator.labels_  #获取聚类标签"
   ]
  },
  {
   "cell_type": "code",
   "execution_count": 25,
   "metadata": {},
   "outputs": [
    {
     "data": {
      "text/plain": [
       "array([[6.3160e+02, 1.6190e+02, 3.6000e-01, 4.0300e+02, 2.6073e+04,\n",
       "        3.5340e+01],\n",
       "       [4.9840e+02, 1.4320e+02, 3.5700e+00, 1.7600e+02, 1.0223e+04,\n",
       "        6.2600e+00],\n",
       "       [5.5760e+02, 7.0600e+01, 2.1800e+00, 1.9900e+02, 1.1571e+04,\n",
       "        9.4800e+00],\n",
       "       [6.8410e+02, 2.8180e+02, 1.4000e+00, 2.8600e+02, 1.6660e+04,\n",
       "        2.9390e+01],\n",
       "       [6.4400e+02, 9.3500e+01, 1.9800e+00, 2.3400e+02, 1.3621e+04,\n",
       "        2.2680e+01],\n",
       "       [6.2030e+02, 2.4860e+02, 2.5600e+00, 2.9600e+02, 1.7210e+04,\n",
       "        2.1840e+01],\n",
       "       [4.9840e+02, 1.4750e+02, 2.5000e+00, 2.8400e+02, 1.3578e+04,\n",
       "        1.3490e+01],\n",
       "       [4.6940e+02, 5.6100e+01, 3.6800e+00, 1.1900e+02, 6.9110e+03,\n",
       "        1.7200e+00],\n",
       "       [4.3450e+02, 7.3000e+01, 3.3600e+00, 9.9000e+01, 5.7950e+03,\n",
       "        1.6600e+00],\n",
       "       [8.1900e+01, 1.6300e+01, 3.0200e+00, 1.9000e+01, 8.7600e+02,\n",
       "        5.2000e-01],\n",
       "       [1.3860e+02, 8.2000e+00, 1.4000e+00, 3.1000e+01, 1.4110e+03,\n",
       "        1.2800e+00],\n",
       "       [9.2200e+01, 9.8000e+00, 2.6100e+00, 3.1000e+01, 1.7510e+03,\n",
       "        3.5000e-01],\n",
       "       [1.7490e+02, 5.0000e+00, 5.1200e+00, 2.4000e+01, 1.1010e+03,\n",
       "        4.8000e-01],\n",
       "       [1.6900e+02, 6.5000e+00, 3.6800e+00, 4.0000e+01, 1.7960e+03,\n",
       "        1.4500e+00],\n",
       "       [2.6220e+02, 4.9400e+01, 2.6600e+00, 6.8000e+01, 3.0670e+03,\n",
       "        3.0900e+00],\n",
       "       [1.9550e+02, 8.8400e+01, 4.1900e+00, 5.3000e+01, 2.7340e+03,\n",
       "        1.2500e+00],\n",
       "       [7.8600e+01, 2.7800e+01, 4.9500e+00, 2.2000e+01, 1.6620e+03,\n",
       "        1.1000e-01],\n",
       "       [1.3600e+01, 3.0000e-01, 6.2800e+00, 2.0000e+00, 1.0100e+02,\n",
       "        1.0000e-02],\n",
       "       [5.5910e+02, 4.2900e+01, 1.2700e+00, 2.0100e+02, 1.1702e+04,\n",
       "        4.7600e+00],\n",
       "       [5.2110e+02, 1.2250e+02, 9.8000e-01, 2.4800e+02, 1.4461e+04,\n",
       "        1.1910e+01]])"
      ]
     },
     "execution_count": 25,
     "metadata": {},
     "output_type": "execute_result"
    }
   ],
   "source": [
    "data"
   ]
  },
  {
   "cell_type": "code",
   "execution_count": 24,
   "metadata": {},
   "outputs": [
    {
     "data": {
      "text/plain": [
       "array([[ 2111.42752724,   -77.07806491],\n",
       "       [ 2111.42752724,   -77.07806491],\n",
       "       [ 2111.42752724,   -77.07806491],\n",
       "       [ 2111.42752724,   -77.07806491],\n",
       "       [ 2111.42752724,   -77.07806491],\n",
       "       [ 2111.42752724,   -77.07806491],\n",
       "       [ 2111.42752724,   -77.07806491],\n",
       "       [17959.98712702,   253.91715191],\n",
       "       [17959.98712702,   253.91715191],\n",
       "       [17959.98712702,   253.91715191],\n",
       "       [17959.98712702,   253.91715191],\n",
       "       [17959.98712702,   253.91715191],\n",
       "       [17959.98712702,   253.91715191],\n",
       "       [17959.98712702,   253.91715191],\n",
       "       [17959.98712702,   253.91715191],\n",
       "       [17959.98712702,   253.91715191],\n",
       "       [17959.98712702,   253.91715191],\n",
       "       [17959.98712702,   253.91715191],\n",
       "       [ 2111.42752724,   -77.07806491],\n",
       "       [ 2111.42752724,   -77.07806491]])"
      ]
     },
     "execution_count": 24,
     "metadata": {},
     "output_type": "execute_result"
    }
   ],
   "source": [
    "X_new[label_pred]"
   ]
  },
  {
   "cell_type": "code",
   "execution_count": 20,
   "metadata": {},
   "outputs": [
    {
     "data": {
      "image/png": "[encoded data removed]",
      "text/plain": [
       "<Figure size 432x288 with 1 Axes>"
      ]
     },
     "metadata": {
      "needs_background": "light"
     },
     "output_type": "display_data"
    }
   ],
   "source": [
    "#绘制k-means结果\n",
    "x0 = X_new[label_pred == 0]  #分成零的\n",
    "x1 = X_new[label_pred == 1]\n",
    "x2 = X_new[label_pred == 2]\n",
    "x3 = X_new[label_pred == 3]\n",
    "x4 = X_new[label_pred == 4]\n",
    "x5 = X_new[label_pred == 5]\n",
    "plt.scatter(x0[:, 0], x0[:, 1], c = \"red\", marker='o', label='label0')\n",
    "plt.scatter(x1[:, 0], x1[:, 1], c = \"green\", marker='*', label='label1')\n",
    "# plt.scatter(x2[:, 0], x2[:, 2], c = \"blue\", marker='v', label='label2')\n",
    "# plt.scatter(x3[:, 0], x3[:, 2], c = \"yellow\", marker='<', label='label3')\n",
    "# plt.scatter(x4[:, 0], x4[:, 2], c = \"magenta\", marker='>', label='label4')\n",
    "# plt.scatter(x5[:, 0], x5[:, 2], c = \"black\", marker='.', label='label5')\n",
    "plt.xlabel('PCA 1')\n",
    "plt.ylabel('PCA 2')\n",
    "plt.legend(loc=2)\n",
    "plt.show()"
   ]
  },
  {
   "cell_type": "code",
   "execution_count": 72,
   "metadata": {},
   "outputs": [
    {
     "name": "stdout",
     "output_type": "stream",
     "text": [
      "[1 1 1 1 1 1 1 1 1 1 1 1 1 1 1 1 1 1 1 1 1 1 1 1 1 1 1 1 1 1 1 1 1 1 1 1 1\n",
      " 1 1 1 1 1 1 1 1 1 1 1 1 1 2 2 0 2 2 2 2 2 2 2 2 2 2 2 2 2 2 2 2 2 2 2 2 2\n",
      " 2 2 2 0 2 2 2 2 2 2 2 2 2 2 2 2 2 2 2 2 2 2 2 2 2 2 0 2 0 0 0 0 2 0 0 0 0\n",
      " 0 0 2 2 0 0 0 0 2 0 2 0 2 0 0 2 2 0 0 0 0 0 2 0 0 0 0 2 0 0 0 2 0 0 0 2 0\n",
      " 0 2]\n"
     ]
    }
   ],
   "source": [
    "estimator =KMeans(n_clusters=3,init = 'k-means++')   #构造一个聚类数为5的聚类器,初始质心选取方式改为kmeans++\n",
    "estimator.fit(X)   #聚类\n",
    "label_pred = estimator.labels_  #获取聚类标签\n",
    "centroids = estimator.cluster_centers_ #获取聚类中心\n",
    "print(label_pred)"
   ]
  },
  {
   "cell_type": "code",
   "execution_count": 117,
   "metadata": {},
   "outputs": [
    {
     "data": {
      "image/png": "[encoded data removed]",
      "text/plain": [
       "<Figure size 432x288 with 1 Axes>"
      ]
     },
     "metadata": {
      "needs_background": "light"
     },
     "output_type": "display_data"
    }
   ],
   "source": [
    "#画图，每个类别画出一条线\n",
    "for  i in range(len(label_pred)):\n",
    "    if label_pred[i] == 0:\n",
    "        x = [i for i in range(len(X[1]))]\n",
    "        plt.plot(x, X[i], 'y')\n",
    "    elif label_pred[i] == 1:\n",
    "        x = [i for i in range(len(X[1]))]\n",
    "        plt.plot(x, X[3], 'b')\n",
    "    else:\n",
    "        x = [i for i in range(len(X[1]))]\n",
    "        plt.plot(x, X[i], 'r')"
   ]
  }
 ],
 "metadata": {
  "kernelspec": {
   "display_name": "Python 3",
   "language": "python",
   "name": "python3"
  },
  "language_info": {
   "codemirror_mode": {
    "name": "ipython",
    "version": 3
   },
   "file_extension": ".py",
   "mimetype": "text/x-python",
   "name": "python",
   "nbconvert_exporter": "python",
   "pygments_lexer": "ipython3",
   "version": "3.7.4"
  }
 },
 "nbformat": 4,
 "nbformat_minor": 2
}
